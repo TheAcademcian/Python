{
 "cells": [
  {
   "cell_type": "markdown",
   "id": "2b4dd34e",
   "metadata": {},
   "source": [
    "# Generator Function\n",
    "It is similar to the normal function defined by the def keyword and uses a yield keyword instead of return. "
   ]
  },
  {
   "cell_type": "code",
   "execution_count": 45,
   "id": "7876a854",
   "metadata": {},
   "outputs": [
    {
     "name": "stdout",
     "output_type": "stream",
     "text": [
      "First time\n",
      "Second time\n"
     ]
    }
   ],
   "source": [
    "#Example 1\n",
    "def myYield():  \n",
    "    str1 = \"First time\"  \n",
    "    yield str1  \n",
    "  \n",
    "    str2 = \"Second time\"  \n",
    "    yield str2  \n",
    "  \n",
    "    str3 = \"Third time\"  \n",
    "    yield str3 \n",
    "    \n",
    "obj = myYield()  \n",
    "print(next(obj))  \n",
    "print(next(obj))  \n",
    "#print(next(obj))  "
   ]
  },
  {
   "cell_type": "code",
   "execution_count": 48,
   "id": "eb8706e2",
   "metadata": {},
   "outputs": [
    {
     "name": "stdout",
     "output_type": "stream",
     "text": [
      "3\n",
      "5\n",
      "7\n"
     ]
    }
   ],
   "source": [
    "#Example 2\n",
    "#n=1\n",
    "def myGen():\n",
    "    n = 1\n",
    "    n+=2\n",
    "    yield n\n",
    "    \n",
    "    n+=2\n",
    "    yield n \n",
    "    \n",
    "    n+=2\n",
    "    yield n\n",
    "    \n",
    "output=myGen()\n",
    "print(next(output))\n",
    "print(next(output))\n",
    "print(next(output))"
   ]
  },
  {
   "cell_type": "markdown",
   "id": "5cad97f6",
   "metadata": {},
   "source": [
    "# Loop with Generator Function"
   ]
  },
  {
   "cell_type": "code",
   "execution_count": 54,
   "id": "4313c5ed",
   "metadata": {},
   "outputs": [
    {
     "name": "stdout",
     "output_type": "stream",
     "text": [
      "0\n",
      "1\n",
      "2\n"
     ]
    }
   ],
   "source": [
    "# Example 3\n",
    "def myGen(x):\n",
    "    for i in range(x):\n",
    "        yield i\n",
    "        \n",
    "mySeq = myGen(3) # x = 3 \n",
    "print(next(mySeq))\n",
    "print(next(mySeq))\n",
    "print(next(mySeq))\n",
    "#print(next(mySeq))"
   ]
  },
  {
   "cell_type": "markdown",
   "id": "b5f8d434",
   "metadata": {},
   "source": [
    "# Handling the StopIteration error"
   ]
  },
  {
   "cell_type": "code",
   "execution_count": 55,
   "id": "ec7e7e11",
   "metadata": {},
   "outputs": [
    {
     "name": "stdout",
     "output_type": "stream",
     "text": [
      "Received on next():  1\n",
      "Received on next():  2\n",
      "Received on next():  3\n",
      "Received on next():  4\n",
      "Received on next():  5\n"
     ]
    }
   ],
   "source": [
    "# Example 4, Handling the StopIteration error using try and except\n",
    "def myGen(x):\n",
    "    for i in range(1,x):\n",
    "        yield i\n",
    "        \n",
    "mySeq = myGen(6) # x = 6 \n",
    "\n",
    "while True:\n",
    "    try:\n",
    "        print (\"Received on next(): \", next(mySeq))\n",
    "    except StopIteration:\n",
    "        break"
   ]
  },
  {
   "cell_type": "code",
   "execution_count": 5,
   "id": "538ae381",
   "metadata": {},
   "outputs": [
    {
     "name": "stdout",
     "output_type": "stream",
     "text": [
      "1\n",
      "2\n",
      "4\n",
      "8\n",
      "16\n"
     ]
    }
   ],
   "source": [
    "# Example 5, Handling the StopIteration error without try and except\n",
    "def myFun1(x):  \n",
    "    for i in range(0,5): \n",
    "        yield x**i  \n",
    "\n",
    "  \n",
    "for n in myFun1(2):  #  x = 2, 2^i\n",
    "    print(n)  "
   ]
  },
  {
   "cell_type": "markdown",
   "id": "22befbfc",
   "metadata": {},
   "source": [
    "# Difference between Generator function and Normal function\n",
    "1. Normal function contains only one return statement where as generator function can contain one or more yield statements.\n",
    "2. Local variable and their states are remembered between successive calls."
   ]
  },
  {
   "cell_type": "code",
   "execution_count": 60,
   "id": "9d9dee84",
   "metadata": {},
   "outputs": [
    {
     "name": "stdout",
     "output_type": "stream",
     "text": [
      "0\n",
      "1\n",
      "1\n",
      "2\n",
      "3\n"
     ]
    }
   ],
   "source": [
    "# Example 6: fibonacci using function generator\n",
    "def fibonacciGenerator():\n",
    "    n1=0; n2=1\n",
    "    while True:\n",
    "        yield n1\n",
    "        n1, n2 = n2, n1 + n2\n",
    "        \n",
    "fibSeq= fibonacciGenerator()\n",
    "print(next(fibSeq))\n",
    "print(next(fibSeq))\n",
    "print(next(fibSeq))\n",
    "print(next(fibSeq))\n",
    "print(next(fibSeq))\n",
    "#print(next(fibSeq))\n",
    "#print(next(fibSeq))"
   ]
  },
  {
   "cell_type": "markdown",
   "id": "93d0289d",
   "metadata": {},
   "source": [
    "# Generator Expression\n",
    "* (x*x for x in range(n)) is a generator expression \n",
    "* The first part of an expression is the yield value \n",
    "* The second part is the for loop with the collection"
   ]
  },
  {
   "cell_type": "code",
   "execution_count": 63,
   "id": "5ab94ae9",
   "metadata": {},
   "outputs": [
    {
     "name": "stdout",
     "output_type": "stream",
     "text": [
      "Output of generator function:  1.0\n",
      "Output of generator function:  1.4142135623730951\n",
      "Output of generator function:  1.7320508075688772\n"
     ]
    }
   ],
   "source": [
    "# Example 7: (Generator Expression is same as lambda function)\n",
    "list = [1,2,3,4]  \n",
    "  \n",
    "z = (x**0.5 for x in list)\n",
    "print(\"Output of generator function: \",next(z)) \n",
    "print(\"Output of generator function: \",next(z))\n",
    "print(\"Output of generator function: \",next(z))\n",
    "#print(x)"
   ]
  },
  {
   "cell_type": "markdown",
   "id": "3b0b417b",
   "metadata": {},
   "source": [
    "# List comprehension Vs Generator Expression"
   ]
  },
  {
   "cell_type": "code",
   "execution_count": 64,
   "id": "93fa6782",
   "metadata": {},
   "outputs": [
    {
     "data": {
      "text/plain": [
       "[0, 1, 4, 9, 16]"
      ]
     },
     "execution_count": 64,
     "metadata": {},
     "output_type": "execute_result"
    }
   ],
   "source": [
    "[x**2 for x in range(5)]  #List comprehension\n"
   ]
  },
  {
   "cell_type": "code",
   "execution_count": 66,
   "id": "b41383ef",
   "metadata": {},
   "outputs": [
    {
     "data": {
      "text/plain": [
       "4"
      ]
     },
     "execution_count": 66,
     "metadata": {},
     "output_type": "execute_result"
    }
   ],
   "source": [
    "GE = (x**2 for x in range(5))  #Generator Expression\n",
    "next(GE)\n",
    "next(GE)\n",
    "next(GE)"
   ]
  },
  {
   "cell_type": "markdown",
   "id": "6ea1de57",
   "metadata": {},
   "source": [
    "# Generate Infinite Sequence"
   ]
  },
  {
   "cell_type": "code",
   "execution_count": 69,
   "id": "d2563507",
   "metadata": {},
   "outputs": [],
   "source": [
    "# Example 8: Generate Infinite Sequence\n",
    "def iS():  \n",
    "    n = 0  \n",
    "    while True:  \n",
    "        yield n  \n",
    "        n += 1  \n",
    "  \n",
    "#for i in iS():  \n",
    "#    print(i)  "
   ]
  }
 ],
 "metadata": {
  "kernelspec": {
   "display_name": "Python 3",
   "language": "python",
   "name": "python3"
  },
  "language_info": {
   "codemirror_mode": {
    "name": "ipython",
    "version": 3
   },
   "file_extension": ".py",
   "mimetype": "text/x-python",
   "name": "python",
   "nbconvert_exporter": "python",
   "pygments_lexer": "ipython3",
   "version": "3.8.8"
  }
 },
 "nbformat": 4,
 "nbformat_minor": 5
}
