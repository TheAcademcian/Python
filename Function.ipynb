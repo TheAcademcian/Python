{
 "cells": [
  {
   "cell_type": "markdown",
   "id": "1861d7b5",
   "metadata": {},
   "source": [
    "## What is Function?\n",
    "\n",
    "If a group of lines is required frequently, it is not advised to write them separately each time. These statements must be defined as a single unit, which we may call any number of times based on our requirements without having to rewrite. This is called function. \n",
    "\n",
    "Functions are also called as methods, procedures, and subroutines"
   ]
  },
  {
   "cell_type": "markdown",
   "id": "6c2fd01f",
   "metadata": {},
   "source": [
    "## Advantage\n",
    "    Code reuse. \n"
   ]
  },
  {
   "cell_type": "markdown",
   "id": "02a9733e",
   "metadata": {},
   "source": [
    "# Types of functions\n",
    "    1. Built-in Features \n",
    "    2. Customized Functions\n"
   ]
  },
  {
   "cell_type": "markdown",
   "id": "49930d26",
   "metadata": {},
   "source": [
    "# Built in Functions\n",
    "Built-in functions or pre-defined functions are functions that are automatically included with Python programme.\n",
    "\n",
    "For instance, print(), max(), pow(), input() etc.\n",
    "\n",
    "Python 3, there are 68 built-in functions"
   ]
  },
  {
   "cell_type": "markdown",
   "id": "35734bed",
   "metadata": {
    "slideshow": {
     "slide_type": "notes"
    }
   },
   "source": [
    "# User defined functions \n",
    "    User defined functions are functions that are written explicitly according to requirements by programmers"
   ]
  },
  {
   "cell_type": "code",
   "execution_count": 51,
   "id": "a84ba3c8",
   "metadata": {},
   "outputs": [
    {
     "data": {
      "text/plain": [
       "'    \\ndef function_name(parameters) : \\n    ---- ----- \\n    ---- -----\\n    return value(s) # Optional\\n'"
      ]
     },
     "execution_count": 51,
     "metadata": {},
     "output_type": "execute_result"
    }
   ],
   "source": [
    "#Syntax to create user defined functions\n",
    "\"\"\"    \n",
    "def function_name(parameters) : \n",
    "    ---- ----- \n",
    "    ---- -----\n",
    "    return value(s) # Optional\n",
    "\"\"\""
   ]
  },
  {
   "cell_type": "code",
   "execution_count": 4,
   "id": "036f65cc",
   "metadata": {},
   "outputs": [
    {
     "name": "stdout",
     "output_type": "stream",
     "text": [
      "Humanity Above All\n",
      "Humanity Above All\n",
      "Humanity Above All\n",
      "Humanity Above All\n",
      "Humanity Above All\n"
     ]
    }
   ],
   "source": [
    "\"\"\"Write a function to print \"Humanity Above All\"\"\"\n",
    "# Function definition\n",
    "def myFunction(): \n",
    "    print(\"Humanity Above All\") \n",
    "\n",
    "#myFunction()\n",
    "\n",
    "# Function call\n",
    "for _ in range(5):\n",
    "    myFunction()"
   ]
  },
  {
   "cell_type": "markdown",
   "id": "a5ee480c",
   "metadata": {},
   "source": [
    "# Parameters\n",
    "Parameters are the function's inputs. If a function has parameters, we must specify values when invoking the function; otherwise, we will receive an error."
   ]
  },
  {
   "cell_type": "code",
   "execution_count": 5,
   "id": "15102796",
   "metadata": {},
   "outputs": [
    {
     "name": "stdout",
     "output_type": "stream",
     "text": [
      "Hi! Kapil  How are you?\n",
      "Hi! Rani  How are you?\n"
     ]
    }
   ],
   "source": [
    "\"\"\" Function Example 1\"\"\"\n",
    "def myFunction(name): # \"name\" is the formal parameter\n",
    "    print(\"Hi!\",name,\" How are you?\") \n",
    "    # Default return value is None\n",
    "    \n",
    "myFunction(\"Kapil\") # Kapil is the actual parameters, call a function.\n",
    "myFunction(\"Rani\")"
   ]
  },
  {
   "cell_type": "code",
   "execution_count": 8,
   "id": "7085c5cf",
   "metadata": {},
   "outputs": [
    {
     "name": "stdout",
     "output_type": "stream",
     "text": [
      "Square of the 5 is:  25\n",
      "Square of the 19 is:  361\n"
     ]
    }
   ],
   "source": [
    "\"\"\" Function Example 2\"\"\"\n",
    "def myFunction(x): # 'x' is the formal parameter\n",
    "    print(\"Square of the\",x,\"is: \", x**2) \n",
    "    # Default return value is None\n",
    "    \n",
    "myFunction(5) # 5 is the actual parameters\n",
    "myFunction(19)\n"
   ]
  },
  {
   "cell_type": "code",
   "execution_count": 14,
   "id": "d12f1b2b",
   "metadata": {},
   "outputs": [
    {
     "name": "stdout",
     "output_type": "stream",
     "text": [
      "Case1: The result is:  50\n",
      "Case2: The result is:  85\n"
     ]
    }
   ],
   "source": [
    "\"\"\" Function Example 3: define and passing two parameters\"\"\"\n",
    "def addSquare(x,y): # x and y are the formal parameter\n",
    "    return x**2 + y**2\n",
    "\n",
    "# Case 1\n",
    "print(\"Case1: The result is: \",addSquare(5,5)) # Function call\n",
    "\n",
    "#Case 2\n",
    "z = addSquare(2,9)\n",
    "print(\"Case2: The result is: \",z) # Function call"
   ]
  },
  {
   "cell_type": "code",
   "execution_count": 9,
   "id": "589c7f4d",
   "metadata": {},
   "outputs": [
    {
     "name": "stdout",
     "output_type": "stream",
     "text": [
      "Case 1 result:  13\n",
      "Case 2 result:  45\n"
     ]
    }
   ],
   "source": [
    "\"\"\" Function Example 4 (returning a variable)\"\"\"\n",
    "def addSquare(x,y): \n",
    "    w = x**2 + y**2\n",
    "    return w # Variable returning\n",
    "\n",
    "print(\"Case 1 result: \",addSquare(2,3)) # Case 1\n",
    "\n",
    "z = addSquare(6,3) #Case 2\n",
    "print(\"Case 2 result: \",z)"
   ]
  },
  {
   "cell_type": "code",
   "execution_count": 11,
   "id": "41782439",
   "metadata": {},
   "outputs": [
    {
     "name": "stdout",
     "output_type": "stream",
     "text": [
      "The Sum is : 12\n",
      "The Subtraction is : 6\n",
      "The multiplication is:  27\n"
     ]
    }
   ],
   "source": [
    "\"\"\"Example 5: More than one return values\"\"\"\n",
    "def add_sub_mul_Function(x, y): \n",
    "    mySum = x + y\n",
    "    mySub = x - y \n",
    "    myMul  = x*y \n",
    "    return  mySum, mySub, myMul # Return more than one variables\n",
    "\n",
    "aSum, bSub, cMul = add_sub_mul_Function(9, 3) \n",
    "# Receiving more than one variables\n",
    "\n",
    "print(\"The Sum is :\", aSum) \n",
    "print(\"The Subtraction is :\", bSub)\n",
    "print(\"The multiplication is: \",cMul) "
   ]
  },
  {
   "cell_type": "markdown",
   "id": "f677ade0",
   "metadata": {},
   "source": [
    "# Types of actual parameters\n",
    "    1. positional \n",
    "    2. keyword \n",
    "    3. default \n",
    "    4. variable length"
   ]
  },
  {
   "cell_type": "markdown",
   "id": "89b3b37c",
   "metadata": {},
   "source": [
    "# 1. Positional parameters\n",
    "    Correct positional order must be maintained"
   ]
  },
  {
   "cell_type": "code",
   "execution_count": 14,
   "id": "6d82a943",
   "metadata": {},
   "outputs": [
    {
     "name": "stdout",
     "output_type": "stream",
     "text": [
      "2  to the power 3 is:  8\n",
      "3  to the power 2 is:  9\n"
     ]
    }
   ],
   "source": [
    "\"\"\" 1. Positional parameters\"\"\"\n",
    "def positionalFunction(x,y): # Normal argument: matched by position\n",
    "    print(x,\" to the power\", y, \"is: \",x**y)\n",
    "\n",
    "positionalFunction(2, 3)\n",
    "positionalFunction(3, 2)"
   ]
  },
  {
   "cell_type": "markdown",
   "id": "3854aad4",
   "metadata": {},
   "source": [
    "# Notes on Positional parameters\n",
    "1. The number of parameters and position of parameters must be the same. \n",
    "2. If the orders of the parameters are changed, the outcome may be altered.\n",
    "3. We will get an error if we vary the number of parameters."
   ]
  },
  {
   "cell_type": "code",
   "execution_count": 17,
   "id": "6b7b26fd",
   "metadata": {},
   "outputs": [
    {
     "name": "stdout",
     "output_type": "stream",
     "text": [
      "2  to the power 3 is:  8\n"
     ]
    }
   ],
   "source": [
    "\"\"\"Positional parameters\"\"\"\n",
    "def positionalFunction(x,y): \n",
    "    print(x,\" to the power\", y, \"is: \",x**y)\n",
    "\n",
    "positionalFunction(2, 3)\n",
    "#positionalFunction(2, 3, 5)"
   ]
  },
  {
   "cell_type": "markdown",
   "id": "ea98e956",
   "metadata": {},
   "source": [
    "# Keyword Parameters\n",
    "    We can pass parameter values by keyword i.e., by parameter's name. The sequence of the parameter does not matter, but the number of parameters must be equal."
   ]
  },
  {
   "cell_type": "code",
   "execution_count": 20,
   "id": "f0ead3fc",
   "metadata": {},
   "outputs": [
    {
     "name": "stdout",
     "output_type": "stream",
     "text": [
      "2  to the power 3 is:  8\n"
     ]
    }
   ],
   "source": [
    "\"\"\"keyword Parameters\"\"\"\n",
    "def keywordFunction(x,y): \n",
    "    print(x,\" to the power\", y, \"is: \",x**y)\n",
    "\n",
    "keywordFunction(x = 2, y = 3) #Keyword parameters: matched by name\n",
    "#keywordFunction (y = 3, x = 2)\n",
    "#keywordFunction (y = 3, x = 2, z = 1)"
   ]
  },
  {
   "cell_type": "markdown",
   "id": "93ab2a26",
   "metadata": {},
   "source": [
    "Both positional and keyword parameters can be used at the same time. \n",
    "However, we must take positional parameters first, followed by keyword parameters, else we will get a syntax error.\n"
   ]
  },
  {
   "cell_type": "code",
   "execution_count": 23,
   "id": "0d24e8f7",
   "metadata": {},
   "outputs": [
    {
     "name": "stdout",
     "output_type": "stream",
     "text": [
      "2  to the power 3 is:  8\n",
      "2  to the power 3 is:  8\n"
     ]
    }
   ],
   "source": [
    "def pkFunction(x,y):\n",
    "    print(x,\" to the power\", y, \"is: \",x**y)\n",
    "\n",
    "pkFunction(2, 3)\n",
    "pkFunction(2, y = 3)\n",
    "#positionalFunction(x = 2, 3)"
   ]
  },
  {
   "cell_type": "markdown",
   "id": "ff3666e5",
   "metadata": {},
   "source": [
    "# Default Parameters\n",
    "    For our positional parameters, we can sometimes assign default values."
   ]
  },
  {
   "cell_type": "code",
   "execution_count": 29,
   "id": "e2c22f1a",
   "metadata": {},
   "outputs": [
    {
     "name": "stdout",
     "output_type": "stream",
     "text": [
      "3  to the power 2 is:  9\n",
      "2  to the power 2 is:  4\n",
      "2  to the power 3 is:  8\n",
      "2  to the power 3 is:  8\n"
     ]
    }
   ],
   "source": [
    "\"\"\"Default Parameters\"\"\"\n",
    "\n",
    "def defaultPFunction(x = 3, y = 2):\n",
    "    print(x,\" to the power\", y, \"is: \",x**y)\n",
    "\n",
    "defaultPFunction()              # 3^2\n",
    "defaultPFunction(2)             # 2^2\n",
    "defaultPFunction(2, 3)          # 2^3\n",
    "defaultPFunction(2, y = 3)      # 2^3\n",
    "#defaultPFunction(x = 2, y = 3)  # 2^3\n",
    "#defaultPFunction(y = 3, 5)"
   ]
  },
  {
   "cell_type": "markdown",
   "id": "24449fbb",
   "metadata": {},
   "source": [
    "# Variable length parameters\n",
    "1. In variable length parameters, we may provide variable number of parameters. \n",
    "2. The * symbol can be used to define a variable length parameter."
   ]
  },
  {
   "cell_type": "code",
   "execution_count": 36,
   "id": "b37c9b40",
   "metadata": {},
   "outputs": [
    {
     "name": "stdout",
     "output_type": "stream",
     "text": [
      "The received value:  (4, 3)\n",
      "Number of received parameters:  2\n",
      "The multiplication value is:  12\n"
     ]
    }
   ],
   "source": [
    "\"\"\"Example of variable length parameters\"\"\"\n",
    "def variablePF(*N): \n",
    "    mulv = 1\n",
    "    print(\"The received value: \",N)\n",
    "    print(\"Number of received parameters: \", len(N))\n",
    "    for n in N: \n",
    "        mulv *= n \n",
    " \n",
    "    print(\"The multiplication value is: \",mulv) \n",
    " \n",
    "#variablePF() # No parameter\n",
    "#variablePF(10) \n",
    "variablePF(4,3) \n",
    "#variablePF(range(10)) "
   ]
  },
  {
   "cell_type": "markdown",
   "id": "414c28cb",
   "metadata": {},
   "source": [
    "# Mixing variable length parameter with positional parameter."
   ]
  },
  {
   "cell_type": "code",
   "execution_count": 42,
   "id": "fa306d05",
   "metadata": {},
   "outputs": [
    {
     "name": "stdout",
     "output_type": "stream",
     "text": [
      "data is:  3 , N is:  (4, 5, 8, 9, 10)\n",
      "The multiplication value is:  43200\n"
     ]
    }
   ],
   "source": [
    "\"\"\" Example 1: Mixing variable length param. with positional param\"\"\"\n",
    "def variablePF(data, *N): \n",
    "    mulv = data\n",
    "    print(\"data is: \",data,\", N is: \", N)\n",
    "    \n",
    "    for n in N: \n",
    "        mulv *= n \n",
    "\n",
    "    print(\"The multiplication value is: \",mulv) \n",
    "\n",
    "#variablePF (2) \n",
    "#variablePF (3, 4) \n",
    "variablePF (3, 4, 5, 8, 9, 10) \n",
    "#variablePF (2, 4, data = 5) \n",
    "#variablePF (data = 2, 4, 5)"
   ]
  },
  {
   "cell_type": "code",
   "execution_count": 47,
   "id": "93c03daa",
   "metadata": {},
   "outputs": [
    {
     "name": "stdout",
     "output_type": "stream",
     "text": [
      "data is:  5 , N is:  (2, 4)\n",
      "The multiplication value is:  40\n"
     ]
    }
   ],
   "source": [
    "\"\"\" Example 2: Mixing variable length param. with default values param\"\"\"\n",
    "def variablePF(*N, data = 1): \n",
    "    mulv = data\n",
    "    print(\"data is: \",data,\", N is: \", N)\n",
    "    for n in N: \n",
    "        mulv *= n \n",
    "\n",
    "    print(\"The multiplication value is: \",mulv) \n",
    "\n",
    "#variablePF (2) # Default value of data is 1, N is:  (2,)\n",
    "#variablePF (3, 4) # Default value of data is 1, N is:  (3,4)\n",
    "#variablePF (2, 4, 5) # Default value of data is 1, N is:  (2, 4, 5) \n",
    "variablePF (2, 4, data = 5) # Here the value of data is 5, N is:  (2, 4)\n",
    "#variablePF (data = 5, 4, 5, 7)"
   ]
  },
  {
   "cell_type": "markdown",
   "id": "16e7eb97",
   "metadata": {},
   "source": [
    "# key word variable length parameters\n",
    "    Use **. Internally these keyword are stored as dictionary."
   ]
  },
  {
   "cell_type": "code",
   "execution_count": 52,
   "id": "8a62f559",
   "metadata": {},
   "outputs": [
    {
     "name": "stdout",
     "output_type": "stream",
     "text": [
      "a : 1\n",
      "b : 9\n",
      "c : 7\n"
     ]
    }
   ],
   "source": [
    "\"\"\" key word variable length parameters\"\"\"\n",
    "def vlkParameters(**kwargs):\n",
    "    for key, value in kwargs.items(): \n",
    "        print(key, \":\", value)\n",
    "\n",
    "#vlkParameters(PI = 3.14)\n",
    "#vlkParameters(Name = \"Kapil\", Address = \"Chandigarh\") \n",
    "vlkParameters(a=1,b=9,c=7)"
   ]
  },
  {
   "cell_type": "code",
   "execution_count": 54,
   "id": "db15156d",
   "metadata": {},
   "outputs": [
    {
     "name": "stdout",
     "output_type": "stream",
     "text": [
      "The values of postional parameters are:  7 , 9\n",
      "The sum of variable length parameters is:  65\n",
      "The key word values are:  ('x', 'God')\n",
      "The key word values are:  ('y', 'is')\n",
      "The key word values are:  ('z', 'Great')\n"
     ]
    }
   ],
   "source": [
    "# use positional, *args and **kwargs togethor\n",
    "def examplePAK(a, b, *args, **kwargs):\n",
    "    print(\"The values of postional parameters are: \",a,\",\",b)\n",
    "    sum =0\n",
    "    for i in args:\n",
    "        sum +=i\n",
    "    print(\"The sum of variable length parameters is: \",sum)\n",
    "    \n",
    "    #print(kwargs)\n",
    "    for j in kwargs.items():\n",
    "        print(\"The key word values are: \",j)\n",
    "        \n",
    "#examplePAK(2,3, 10, 11, 12, x = \"Great\", y = \"Goal\") # Function call\n",
    "examplePAK(7,9, 10, 11, 12, 15, 17, x = \"God\", y = \"is\", z = \"Great\") # Function call\n"
   ]
  },
  {
   "cell_type": "markdown",
   "id": "c098a246",
   "metadata": {},
   "source": [
    "# Difference between Function, Module, Library\n",
    "    1. A set of lines saved with name is called a function. \n",
    "    2. A module consists of set of functions. \n",
    "    3. A library consists of set of modules."
   ]
  },
  {
   "cell_type": "markdown",
   "id": "79992297",
   "metadata": {},
   "source": [
    "# Types of variables\n",
    "1. Global Variables\n",
    "2. Local Variables"
   ]
  },
  {
   "cell_type": "markdown",
   "id": "ca3afc4d",
   "metadata": {},
   "source": [
    "# Global Variables \n",
    "Global variables are variables that are defined outside of a \n",
    "function. All functions in that module can access these variables"
   ]
  },
  {
   "cell_type": "code",
   "execution_count": 57,
   "id": "e9ef5b12",
   "metadata": {},
   "outputs": [
    {
     "name": "stdout",
     "output_type": "stream",
     "text": [
      "The value of PI in F1 3.14\n",
      "The value of PI in F2 3.14\n"
     ]
    }
   ],
   "source": [
    "\"\"\"Example of global variable\"\"\"\n",
    "PI = 3.14\n",
    "def globalVFunction1():\n",
    "    print(\"The value of PI in F1\",PI)\n",
    "\n",
    "def globalVFunction2():\n",
    "    print(\"The value of PI in F2\",PI)\n",
    "\n",
    "globalVFunction1()\n",
    "globalVFunction2()"
   ]
  },
  {
   "cell_type": "markdown",
   "id": "eaff2b13",
   "metadata": {},
   "source": [
    "Notes on local variables\n",
    "1. Local variables are variables that are declared within a function.\n",
    "2. These are only available in the function where they were \n",
    "declared. \n",
    "3. We can't access it from outside the function."
   ]
  },
  {
   "cell_type": "code",
   "execution_count": 58,
   "id": "1dbeec47",
   "metadata": {},
   "outputs": [
    {
     "name": "stdout",
     "output_type": "stream",
     "text": [
      "F1: Print local value:  20\n",
      "F2: Print global value 10\n"
     ]
    }
   ],
   "source": [
    "\"\"\"Example of local and global variables\"\"\"\n",
    "A = 10\n",
    "def VFunction1():\n",
    "    A = 20\n",
    "    print(\"F1: Print local value: \",A)\n",
    "\n",
    "def VFunction2():\n",
    "    print(\"F2: Print global value\",A)\n",
    "\n",
    "VFunction1() \n",
    "VFunction2()"
   ]
  },
  {
   "cell_type": "code",
   "execution_count": 61,
   "id": "e78f5833",
   "metadata": {},
   "outputs": [
    {
     "name": "stdout",
     "output_type": "stream",
     "text": [
      "F1: Print local value:  20\n",
      "F2: Print global value:  20\n"
     ]
    }
   ],
   "source": [
    "\"\"\" global key word\"\"\"\n",
    "A = 10\n",
    "def VFunction1():\n",
    "    global A\n",
    "    A = 20\n",
    "    print(\"F1: Print local value: \",A)\n",
    "\n",
    "def VFunction2():\n",
    "    print(\"F2: Print global value: \",A)\n",
    "\n",
    "VFunction1() \n",
    "VFunction2()"
   ]
  },
  {
   "cell_type": "code",
   "execution_count": 63,
   "id": "e606f4ad",
   "metadata": {},
   "outputs": [
    {
     "name": "stdout",
     "output_type": "stream",
     "text": [
      "F1: Print local value:  20\n",
      "F1: This is global value:  50\n",
      "F2: Print global value:  50\n"
     ]
    }
   ],
   "source": [
    "\"\"\" Accessing global variable and suppressing local variables\"\"\"\n",
    "A = 50\n",
    "def VFunction1():\n",
    "    A = 20 # Local variables\n",
    "    print(\"F1: Print local value: \",A) # Local value\n",
    "    print(\"F1: This is global value: \",globals()['A']) # suppressing local variables\n",
    "\n",
    "def VFunction2():\n",
    "    print(\"F2: Print global value: \",A)\n",
    "\n",
    "VFunction1() \n",
    "VFunction2()"
   ]
  },
  {
   "cell_type": "code",
   "execution_count": 65,
   "id": "2ea3445a",
   "metadata": {},
   "outputs": [
    {
     "name": "stdout",
     "output_type": "stream",
     "text": [
      "Print the global variable:  10\n",
      "Print the local variable:  50\n",
      "Print the global variable:  10\n"
     ]
    }
   ],
   "source": [
    "var1 = 10\n",
    "\n",
    "def localF():\n",
    "    var1 = 50\n",
    "    print(\"Print the local variable: \",var1)\n",
    "    \n",
    "print(\"Print the global variable: \",var1)\n",
    "localF()\n",
    "print(\"Print the global variable: \",var1)"
   ]
  },
  {
   "cell_type": "code",
   "execution_count": 67,
   "id": "fc88d790",
   "metadata": {},
   "outputs": [
    {
     "name": "stdout",
     "output_type": "stream",
     "text": [
      "Print the variable:  11\n",
      "Print the variable:  13\n"
     ]
    }
   ],
   "source": [
    "var = 11\n",
    "def myF():\n",
    "    global var # Declare global \n",
    "    var += 1\n",
    "    print(\"Print the variable: \",var)\n",
    "\n",
    "print(\"Print the variable: \",var)\n",
    "var +=1\n",
    "myF()"
   ]
  },
  {
   "cell_type": "code",
   "execution_count": 68,
   "id": "26b54884",
   "metadata": {},
   "outputs": [
    {
     "name": "stdout",
     "output_type": "stream",
     "text": [
      "Inner global is printed:  13\n",
      "Inner global is printed:  10\n"
     ]
    }
   ],
   "source": [
    "var = 10 # outer global variable global\n",
    "def myF1():\n",
    "    var = 13 # inner global variable\n",
    "\n",
    "    def myF2():\n",
    "        print(\"Inner global is printed: \",var) \n",
    "        # Print variables defined inside the parent function\n",
    "    myF2()\n",
    "    \n",
    "myF1()\n",
    "print(\"Inner global is printed: \",var) "
   ]
  },
  {
   "cell_type": "code",
   "execution_count": 70,
   "id": "b896b381",
   "metadata": {},
   "outputs": [
    {
     "name": "stdout",
     "output_type": "stream",
     "text": [
      "The value is:  30\n"
     ]
    }
   ],
   "source": [
    "# Examples: Is forward reference okay? \n",
    "def myf1():\n",
    "    val = 30 \n",
    "    myf2(val) # Forward reference okay\n",
    "\n",
    "def myf2(val):\n",
    "    print(\"The value is: \",val)\n",
    "\n",
    "myf1()\n"
   ]
  },
  {
   "cell_type": "markdown",
   "id": "45a9fa98",
   "metadata": {},
   "source": [
    "# The nonlocal keyword \n",
    "It's used to work with variables inside nested functions that shouldn't be part of the inner function."
   ]
  },
  {
   "cell_type": "code",
   "execution_count": 83,
   "id": "b0cb8de5",
   "metadata": {},
   "outputs": [
    {
     "name": "stdout",
     "output_type": "stream",
     "text": [
      "Data1:  10\n",
      "Data2:  20\n",
      "Data3:  20\n",
      "Data4:  20\n",
      "Data5: 5\n"
     ]
    }
   ],
   "source": [
    "data = 5\n",
    "def myfunc1():\n",
    "    #global data\n",
    "    data = 10\n",
    "    print(\"Data1: \",data)\n",
    "    def myfunc2():\n",
    "        nonlocal data\n",
    "        #global data\n",
    "        data = 20\n",
    "        print(\"Data2: \",data)\n",
    "    myfunc2() \n",
    "    \n",
    "    print(\"Data3: \",data)\n",
    "    return data\n",
    "\n",
    "print(\"Data4: \",myfunc1())\n",
    "print(\"Data5:\",data)"
   ]
  },
  {
   "cell_type": "code",
   "execution_count": 84,
   "id": "735deca5",
   "metadata": {},
   "outputs": [
    {
     "name": "stdout",
     "output_type": "stream",
     "text": [
      "Data1:  10\n",
      "Data2:  10\n",
      "Data3: 5\n"
     ]
    }
   ],
   "source": [
    "data = 5\n",
    "def myfunc1():\n",
    "    #global data\n",
    "    #nonlocal data\n",
    "    data = 10\n",
    "    print(\"Data1: \",data)\n",
    "    return data\n",
    "print(\"Data2: \",myfunc1())\n",
    "print(\"Data3:\",data)"
   ]
  },
  {
   "cell_type": "code",
   "execution_count": 1,
   "id": "e05b7495",
   "metadata": {},
   "outputs": [
    {
     "name": "stdout",
     "output_type": "stream",
     "text": [
      "Data1:  10\n",
      "Data2:  20\n",
      "Data3:  30\n",
      "Data5:  30\n",
      "Data6:  10\n",
      "Data7:  10\n"
     ]
    }
   ],
   "source": [
    "def myfunc1():\n",
    "    data = 10\n",
    "    print(\"Data1: \",data)\n",
    "    def myfunc2():\n",
    "        #nonlocal data\n",
    "        data = 20\n",
    "        print(\"Data2: \",data)\n",
    "        def myfunc3():\n",
    "            nonlocal data\n",
    "            data = 30\n",
    "            print(\"Data3: \",data)\n",
    "        myfunc3()\n",
    "        print(\"Data5: \",data)\n",
    "    myfunc2() \n",
    "    print(\"Data6: \",data)\n",
    "    return data\n",
    "\n",
    "print(\"Data7: \",myfunc1())"
   ]
  },
  {
   "cell_type": "markdown",
   "id": "a270866d",
   "metadata": {},
   "source": [
    "# Recursive function\n",
    "    Function call itself for sepecified time."
   ]
  },
  {
   "cell_type": "code",
   "execution_count": 88,
   "id": "d0abeac3",
   "metadata": {},
   "outputs": [
    {
     "name": "stdout",
     "output_type": "stream",
     "text": [
      "Factorial of 4 is : 24\n",
      "Factorial of 5 is : 120\n"
     ]
    }
   ],
   "source": [
    "\"\"\" Recursive function\"\"\"\n",
    "def factorial(n):\n",
    "    if n == 0: \n",
    "        return 1\n",
    "    else: \n",
    "        return(n*factorial(n-1)) \n",
    "        \n",
    "print(\"Factorial of 4 is :\",factorial(4))\n",
    "print(\"Factorial of 5 is :\",factorial(5))"
   ]
  },
  {
   "cell_type": "markdown",
   "id": "b4d97689",
   "metadata": {},
   "source": [
    "# Anonymous functions or lambda functions"
   ]
  },
  {
   "cell_type": "markdown",
   "id": "5acceb5f",
   "metadata": {},
   "source": [
    "Sometimes we declare a function without giving it a name; \n",
    "these functions are known as anonymous functions or lambda functions.\n",
    "* lambda Function: defined by \"lambda\" keyword\n",
    "* lambda argument_list : expression\n",
    "* Example: lambda x:x*x"
   ]
  },
  {
   "cell_type": "code",
   "execution_count": 86,
   "id": "00eeb575",
   "metadata": {},
   "outputs": [
    {
     "name": "stdout",
     "output_type": "stream",
     "text": [
      "The Square of 5 is : 25\n"
     ]
    }
   ],
   "source": [
    "\"\"\"Example of lambda function (with single parameter)\"\"\"\n",
    "myF=lambda n:n*n \n",
    "\n",
    "#print(\"The Square of 4 is :\", myF (4))\n",
    "print(\"The Square of 5 is :\", myF (5))\n",
    "#print(\"The Square of XX is :\", myF (4,5))"
   ]
  },
  {
   "cell_type": "code",
   "execution_count": 94,
   "id": "05a404c2",
   "metadata": {},
   "outputs": [
    {
     "name": "stdout",
     "output_type": "stream",
     "text": [
      " 2 to the power 4: 16\n",
      " 3 to the power 2: 9\n"
     ]
    }
   ],
   "source": [
    "\"\"\"Example of lambda function (with more than one parameter)\"\"\"\n",
    "myF=lambda a,b: a**b \n",
    "\n",
    "print(\" 2 to the power 4:\", myF (2,4))\n",
    "print(\" 3 to the power 2:\", myF (3,2))\n",
    "#print(\" X to the power X:\", myF (3))"
   ]
  },
  {
   "cell_type": "code",
   "execution_count": 88,
   "id": "6d4250c4",
   "metadata": {},
   "outputs": [
    {
     "name": "stdout",
     "output_type": "stream",
     "text": [
      "The output is:  16\n"
     ]
    }
   ],
   "source": [
    "def myfunc():\n",
    "    x = 4\n",
    "    result = (lambda n: x ** n) # x is remembered \n",
    "    return result\n",
    "\n",
    "# object of myfunc is defined, and objecr value is used to access the lamda\n",
    "value = myfunc()\n",
    "print(\"The output is: \",value(2)) # n = 2, input of lambda"
   ]
  },
  {
   "cell_type": "code",
   "execution_count": 94,
   "id": "7d398b60",
   "metadata": {},
   "outputs": [
    {
     "data": {
      "text/plain": [
       "1024"
      ]
     },
     "execution_count": 94,
     "metadata": {},
     "output_type": "execute_result"
    }
   ],
   "source": [
    "def myFunction():\n",
    "    data = []\n",
    "    for i in range(10): # Use defaults instead\n",
    "        data.append(lambda x, i=i: i ** x) # Remember i\n",
    "    return data\n",
    "value = myFunction()\n",
    "#print(value)\n",
    "value[2](10) # i = 3, x = 2"
   ]
  },
  {
   "cell_type": "markdown",
   "id": "23e04842",
   "metadata": {},
   "source": [
    "# Notes on lambda function\n",
    "1. We may build very brief code with lambda functions. \n",
    "2. It improves the readability of the programme.\n",
    "3. No explicit returns statement is required.\n",
    "4. Using lambda function we can pass function as argument to another function. "
   ]
  },
  {
   "cell_type": "code",
   "execution_count": 95,
   "id": "d0e3cce7",
   "metadata": {},
   "outputs": [
    {
     "name": "stdout",
     "output_type": "stream",
     "text": [
      "The values are:  6\n",
      "The values are:  4\n",
      "The values are:  2.23606797749979\n",
      "The values are:  25\n",
      "The last result is:  2.23606797749979\n"
     ]
    }
   ],
   "source": [
    "# More examples of lambda in list\n",
    "myList = [lambda x: x + 1, lambda x: x - 1, lambda x: x ** 0.5, lambda x: x**2] \n",
    "for f in myList:\n",
    "    print(\"The values are: \",f(5))\n",
    "\n",
    "print(\"The last result is: \",myList[2](5)) \n",
    "# 0: inc, 1: Dec, 2: SRoot, 3: Square"
   ]
  },
  {
   "cell_type": "code",
   "execution_count": 99,
   "id": "6d3ab22e",
   "metadata": {},
   "outputs": [
    {
     "name": "stdout",
     "output_type": "stream",
     "text": [
      "The value of Inc is:  5\n",
      "The value of Dec is:  3\n",
      "The value of SRoot is:  2.0\n"
     ]
    }
   ],
   "source": [
    "# More examples of lambda in dictionary\n",
    "myList = {'Inc':(lambda x: x + 1), \n",
    "          'Dec':(lambda x: x - 1), \n",
    "          'SRoot': (lambda x: x ** 0.5)}\n",
    "\n",
    "for f in myList:\n",
    "    print(\"The value of\", f, \"is: \",myList[f](4))\n",
    "\n",
    "#print(\"The last result is: \",myList[0](3)) \n",
    "# 0: inc, 1: Dec, 2: SRoot"
   ]
  },
  {
   "cell_type": "markdown",
   "id": "2b2b9819",
   "metadata": {},
   "source": [
    "# Lambda with filter\n",
    "    The filter() function is used to filter values \n",
    "    (based on some condition)from the given sequence. \n",
    "    Syntax: filter(function,sequence)"
   ]
  },
  {
   "cell_type": "code",
   "execution_count": 100,
   "id": "20dfa72a",
   "metadata": {},
   "outputs": [
    {
     "name": "stdout",
     "output_type": "stream",
     "text": [
      "Print even numbers:  [0, 2, 4, 6, 8]\n",
      "List value square:  [5, 6, 7, 8, 9]\n"
     ]
    }
   ],
   "source": [
    "\"\"\"Lambda with filter\"\"\"\n",
    "data = range(10) \n",
    "LFF1 = list(filter(lambda x:x%2==0,data)) # filter(function,sequence)\n",
    "LFF2 = list(filter(lambda x:x>=5,data))\n",
    "\n",
    "print(\"Print even numbers: \",LFF1)\n",
    "print(\"List value square: \",LFF2)"
   ]
  },
  {
   "cell_type": "markdown",
   "id": "1cc2c8b6",
   "metadata": {},
   "source": [
    "# Lambda with map() function\n",
    "For every data present in the given sequence, apply some functionality and generate new dataset with the required modification.\n",
    "\n",
    "syntax: map(function,sequence)\n"
   ]
  },
  {
   "cell_type": "code",
   "execution_count": 98,
   "id": "5c7a70d0",
   "metadata": {},
   "outputs": [
    {
     "name": "stdout",
     "output_type": "stream",
     "text": [
      "Square the value:  [0, 1, 4, 9, 16]\n"
     ]
    }
   ],
   "source": [
    "\"\"\"Lambda with map() function (Example 1)\"\"\"\n",
    "data=range(5) \n",
    "X=list(map(lambda x:x**2,data)) \n",
    "\n",
    "print(\"Square the value: \",X) "
   ]
  },
  {
   "cell_type": "code",
   "execution_count": 105,
   "id": "3ec87571",
   "metadata": {},
   "outputs": [
    {
     "name": "stdout",
     "output_type": "stream",
     "text": [
      "data1 square data2:  [0, 1, 256, 19683]\n"
     ]
    }
   ],
   "source": [
    "\"\"\"Lamda with map() function (Example 2)\"\"\"\n",
    "data1=range(5)\n",
    "data2=range(6,10) \n",
    "X=list(map(lambda x,y:x**y,data1, data2)) \n",
    "\n",
    "print(\"data1 square data2: \",X)"
   ]
  },
  {
   "cell_type": "markdown",
   "id": "0ea7e21f",
   "metadata": {},
   "source": [
    "# Lamda with reduce() function\n",
    "It reduces sequence of elements into a single element by applying some function.\n",
    "\n",
    "syntax: reduce(function,sequence)"
   ]
  },
  {
   "cell_type": "code",
   "execution_count": 107,
   "id": "5b08059c",
   "metadata": {},
   "outputs": [
    {
     "name": "stdout",
     "output_type": "stream",
     "text": [
      "The reduce resulty is:  10\n"
     ]
    }
   ],
   "source": [
    "from functools import * \n",
    "data=[2, 1, 4, 3] \n",
    "result=reduce(lambda x,y:x+y,data) \n",
    "print(\"The reduce resulty is: \",result) \n"
   ]
  },
  {
   "cell_type": "markdown",
   "id": "fb66d1a8",
   "metadata": {},
   "source": [
    "# Function Aliasing\n",
    "    Renaming a function"
   ]
  },
  {
   "cell_type": "code",
   "execution_count": 112,
   "id": "4ed7fed5",
   "metadata": {},
   "outputs": [
    {
     "name": "stdout",
     "output_type": "stream",
     "text": [
      "Addition is: 8\n",
      "The id is:  140726057277568\n",
      "Addition is: 9\n",
      "The id is:  140726057277568\n",
      "Addition is: 8\n"
     ]
    }
   ],
   "source": [
    "def addMy(x,y): \n",
    "    print(\"Addition is:\",x+y) \n",
    " \n",
    "sumMy=addMy\n",
    "\n",
    "print(\"The id is: \",id(sumMy(2,6))) \n",
    "print(\"The id is: \",id(addMy(4,5))) \n",
    " \n",
    "sumMy(2,6)\n",
    "#del addMy\n",
    "#addMy(10, 12)\n",
    "#sumMy(10,6)"
   ]
  },
  {
   "cell_type": "markdown",
   "id": "d5a1bd43",
   "metadata": {},
   "source": [
    "If we delete a function  still we can access that function using alias name.\n",
    "* Syntax to delete: del sumMy"
   ]
  },
  {
   "cell_type": "markdown",
   "id": "3eb76adf",
   "metadata": {},
   "source": [
    "# Nested Functions\n",
    "    declare a function inside another function"
   ]
  },
  {
   "cell_type": "code",
   "execution_count": 113,
   "id": "5454c7e3",
   "metadata": {},
   "outputs": [
    {
     "name": "stdout",
     "output_type": "stream",
     "text": [
      "outer function initiated _1\n",
      "outer function called inner function _2\n",
      "Inside the inner function _3\n"
     ]
    }
   ],
   "source": [
    "\"\"\"Nested function example\"\"\"\n",
    "\n",
    "def outerF(): \n",
    "    print(\"outer function initiated _1\") \n",
    "    \n",
    "    def innerF(): \n",
    "        print(\"Inside the inner function _3\") \n",
    "    \n",
    "    print(\"outer function called inner function _2\") \n",
    "    innerF() # Calling inside the outer Function\n",
    "\n",
    "#inner() # Calling outside the outer Function\n",
    "outerF()"
   ]
  },
  {
   "cell_type": "markdown",
   "id": "cad8b155",
   "metadata": {},
   "source": [
    "# Functions are first-class objects\n",
    "Everything in Python is viewed as an object. In Python, functions are first class objects since they can refer to, pass to variables, and return from other functions.\n",
    "    \n",
    "The function can also be called, supplied as a variable, and returned from other functions.\n",
    "\n",
    "The functions can be declared inside another function and supplied to it as an argument."
   ]
  },
  {
   "cell_type": "markdown",
   "id": "7b009f1f",
   "metadata": {},
   "source": [
    "# Passing function as argument to another function"
   ]
  },
  {
   "cell_type": "code",
   "execution_count": 114,
   "id": "0568d4b0",
   "metadata": {},
   "outputs": [
    {
     "name": "stdout",
     "output_type": "stream",
     "text": [
      "Passing a function: [1, 4, 9, 25, 36]\n"
     ]
    }
   ],
   "source": [
    "\"\"\"Example 1: Passing function as argument to another function\"\"\"\n",
    "data=[1,2,3, 5, 6] \n",
    "def mySquare(x):\n",
    "    return x**2\n",
    "\n",
    "result=list(map(mySquare,data))\n",
    "print(\"Passing a function:\",result)"
   ]
  },
  {
   "cell_type": "code",
   "execution_count": 115,
   "id": "4a2b6267",
   "metadata": {},
   "outputs": [
    {
     "name": "stdout",
     "output_type": "stream",
     "text": [
      "The x value is: 5\n",
      "The y value is: 10\n",
      "The final result: 15\n",
      "The y value is: 13\n",
      "The final result: 18\n"
     ]
    }
   ],
   "source": [
    "#Example 2: Functions can return another function\n",
    "def OuterAdder(x):\n",
    "    print(\"The x value is:\",x)\n",
    "    def InnerAdder(y):          # Inner function\n",
    "        print(\"The y value is:\",y)\n",
    "        return x+y\n",
    " \n",
    "    return InnerAdder # Returning InnerAdder as argument\n",
    " \n",
    "addingValues = OuterAdder(5) # The x value is 5, # Assign function object\n",
    "#print(\"\\nPrinting addingValues:\\n\",addingValues)\n",
    "finalResult = addingValues(10) # The x value is 5, the y value is 10\n",
    "print(\"The final result:\",finalResult)\n",
    "finalResult = addingValues(13) # The x value is 5, the y value is 10\n",
    "print(\"The final result:\",finalResult)"
   ]
  },
  {
   "cell_type": "code",
   "execution_count": 123,
   "id": "17290203",
   "metadata": {},
   "outputs": [
    {
     "name": "stdout",
     "output_type": "stream",
     "text": [
      "The 10 is an even number\n",
      "The 13 is an odd number\n"
     ]
    }
   ],
   "source": [
    "#Example 3: Function returning another function\n",
    "def outerF(num):\n",
    "    def even():\n",
    "        print(\"The\", num, \"is an even number\")\n",
    "\n",
    "    def odd():\n",
    "        print(\"The\", num, \"is an odd number\")\n",
    "\n",
    "    if num%2 == 0:\n",
    "        return even\n",
    "    else:\n",
    "        return odd\n",
    "test = outerF(10) # Assign function object    \n",
    "test() # Call the function\n",
    "\n",
    "test = outerF(13)    \n",
    "test()"
   ]
  },
  {
   "cell_type": "code",
   "execution_count": 124,
   "id": "ffbed9c2",
   "metadata": {},
   "outputs": [
    {
     "name": "stdout",
     "output_type": "stream",
     "text": [
      "10 is an even number\n",
      "13 is an odd number\n",
      "11 is an odd number\n"
     ]
    }
   ],
   "source": [
    "#Example 4: Function returning another function\n",
    "def outer(x):\n",
    "    if x%2 == 0:\n",
    "        def inner1():\n",
    "            print(x,\"is an even number\")\n",
    "        return inner1\n",
    "    else:\n",
    "        def inner2():\n",
    "            print(x,\"is an odd number\")\n",
    "        return inner2\n",
    "    return outer\n",
    "            \n",
    "x = outer(10)\n",
    "x()\n",
    "x = outer(13)\n",
    "x()\n",
    "outer(11)()"
   ]
  },
  {
   "cell_type": "markdown",
   "id": "6ef9163b",
   "metadata": {},
   "source": [
    "# Closure or factory function\n",
    "    Depending on whom you ask, this sort of behavior is also sometimes called a closure or factory function. "
   ]
  },
  {
   "cell_type": "code",
   "execution_count": 73,
   "id": "e67b0364",
   "metadata": {},
   "outputs": [
    {
     "name": "stdout",
     "output_type": "stream",
     "text": [
      "Result 1:  9\n",
      "Result 2:  81\n",
      "Each call to make Inner creates a new instance (here  value of a) of this function, but each instance has a link to a different binding of variable\n"
     ]
    }
   ],
   "source": [
    "def outer(x):\n",
    "    def inner(a): \n",
    "         return a ** x # retains x from enclosing scope\n",
    "    return inner\n",
    "\n",
    "f1 = outer(2) # x = 2, object of the outer function is created\n",
    "result1 = f1(3) # a = 3, Accessing the inner function, since outer holds inner  \n",
    "print(\"Result 1: \",result1) # 3^2 = 9\n",
    "\n",
    "f2 = outer(4) # x = 4, In this case x = 4\n",
    "result2 = f2(3) # a = 3,  \n",
    "print(\"Result 2: \",result2) # 3^4 = 81\n",
    "print(\"Each call to make Inner creates a new instance (here  value of a) of this function, but each instance has a link to a different binding of variable\")"
   ]
  },
  {
   "cell_type": "markdown",
   "id": "a5bd1210",
   "metadata": {},
   "source": [
    "# Decorator function\n",
    "* A decorator takes a function as an argument and extends its functionality, returning a modified function with the enhanced functionality.\n",
    "* The fundamental goal of decorator functions is to allow us to increase the functionality of existing functions without having to change them.\n",
    "*It allows programmers to change a function behaves.\n",
    "*In Decorators, functions are passed as an parameter into another function and then called inside the wrapper function.\n",
    "*It is also known as \"meta programming\". Here one portion of a programme tries to change another component of the programme at compile time."
   ]
  },
  {
   "cell_type": "markdown",
   "id": "87d51284",
   "metadata": {},
   "source": [
    "# Higher Order Function\n",
    "    A function that accepts other function as an argument is called \n",
    "    higher order function.\n",
    "    "
   ]
  },
  {
   "cell_type": "code",
   "execution_count": 45,
   "id": "02bbd414",
   "metadata": {},
   "outputs": [
    {
     "name": "stdout",
     "output_type": "stream",
     "text": [
      "The incremented operator:  11\n",
      "The decremented operator:  9\n"
     ]
    }
   ],
   "source": [
    "\"\"\"Example of higher order function\"\"\"\n",
    "def Inc(x):  \n",
    "    return x+1  \n",
    "def Dec(x):  \n",
    "    return x-1\n",
    "\n",
    "def operation(func, x): # func is a function, passing as parameter \n",
    "    cal = func(x)  \n",
    "    return cal  \n",
    "\n",
    "print(\"The incremented operator: \",operation(Inc,10))  \n",
    "print(\"The decremented operator: \",operation(Dec,10))  "
   ]
  },
  {
   "cell_type": "code",
   "execution_count": 116,
   "id": "7e00c995",
   "metadata": {},
   "outputs": [
    {
     "name": "stdout",
     "output_type": "stream",
     "text": [
      "The result is:  0.5\n",
      "The result is:  12\n"
     ]
    }
   ],
   "source": [
    "def divide(x,y):  \n",
    "    print(\"The result is: \",x/y) \n",
    "   \n",
    "def outerDiv(func):  \n",
    "    def inner(x,y):  \n",
    "        if y != 0:  \n",
    "            return func(x,y) \n",
    "    return inner\n",
    "    \n",
    "divideResult1 = outerDiv(divide)  \n",
    "divideResult1(2,4)"
   ]
  },
  {
   "cell_type": "code",
   "execution_count": 119,
   "id": "665eb9ee",
   "metadata": {},
   "outputs": [
    {
     "name": "stdout",
     "output_type": "stream",
     "text": [
      "The result is:  0.5\n",
      "The result is:  3.0\n",
      "y should not be 0\n"
     ]
    }
   ],
   "source": [
    "def outer_div(func):  \n",
    "    def inner(x,y):\n",
    "        if y != 0: \n",
    "            return func(x,y)\n",
    "        else:\n",
    "            print(\"y should not be 0\")\n",
    "    return inner\n",
    "\n",
    "# decorators wrap a function, modifying its behavior.\n",
    "@outer_div  \n",
    "def divide(x,y):  \n",
    "     print(\"The result is: \",x/y)\n",
    "\n",
    "divide(2,4) \n",
    "divide(6,2)\n",
    "divide(5,0)\n",
    "\n",
    "# Can we wrap another function??"
   ]
  },
  {
   "cell_type": "code",
   "execution_count": 124,
   "id": "758cad53",
   "metadata": {},
   "outputs": [
    {
     "name": "stdout",
     "output_type": "stream",
     "text": [
      "\n",
      "The value of x is 2 & the value of y is 4\n",
      "The result is:  0.5\n",
      "\n",
      "The value of x is 6 & the value of y is 2\n",
      "The result is:  3.0\n",
      "y should not be zero!\n"
     ]
    }
   ],
   "source": [
    "# More than one decorators\n",
    "def display(func):\n",
    "    def inner(x,y):\n",
    "        print(\"\\nThe value of x is\",x,\"& the value of y is\",y)\n",
    "        return func(x,y)\n",
    "    return inner\n",
    "   \n",
    "def outer_div(func):  \n",
    "    def inner(x,y):\n",
    "        if y != 0: \n",
    "            return func(x,y)\n",
    "        else:\n",
    "            print(\"y should not be zero!\")        \n",
    "    return inner\n",
    "\n",
    "@outer_div\n",
    "@display\n",
    "def divide(x,y):  \n",
    "     print(\"The result is: \",x/y)\n",
    "\n",
    "divide(2,4) \n",
    "divide(6,2)\n",
    "divide(5,0)"
   ]
  },
  {
   "cell_type": "code",
   "execution_count": 2,
   "id": "27d6227a",
   "metadata": {},
   "outputs": [
    {
     "name": "stdout",
     "output_type": "stream",
     "text": [
      "\n",
      "The value of x is 2 & the value of y is 4\n",
      "Multiplication is:  8\n",
      "The division is:  0.5\n",
      "Evaluation is done!\n",
      "\n",
      "The value of x is 6 & the value of y is 2\n",
      "Multiplication is:  12\n",
      "The division is:  3.0\n",
      "Evaluation is done!\n",
      "\n",
      "The value of x is 5 & the value of y is 0\n",
      "Multiplication is:  0\n",
      "y should not be zero!\n"
     ]
    }
   ],
   "source": [
    "# More than one decorators\n",
    "def mul(func):\n",
    "    def inner(x,y):\n",
    "        print(\"\\nThe value of x is\",x,\"& the value of y is\",y)\n",
    "        print(\"Multiplication is: \", x*y)\n",
    "        return func(x,y)\n",
    "    return inner\n",
    "   \n",
    "def div(func):  \n",
    "    def inner(x,y):\n",
    "        if y != 0: \n",
    "            print(\"The division is: \",x/y)\n",
    "            return func(x,y)\n",
    "        else:\n",
    "            print(\"y should not be zero!\")        \n",
    "    return inner\n",
    "\n",
    "@mul\n",
    "@div\n",
    "def evaluate(x,y):  \n",
    "     print(\"Evaluation is done!\")\n",
    "\n",
    "evaluate(2,4) \n",
    "evaluate(6,2)\n",
    "evaluate(5,0)"
   ]
  }
 ],
 "metadata": {
  "celltoolbar": "Edit Metadata",
  "kernelspec": {
   "display_name": "Python 3",
   "language": "python",
   "name": "python3"
  },
  "language_info": {
   "codemirror_mode": {
    "name": "ipython",
    "version": 3
   },
   "file_extension": ".py",
   "mimetype": "text/x-python",
   "name": "python",
   "nbconvert_exporter": "python",
   "pygments_lexer": "ipython3",
   "version": "3.8.8"
  }
 },
 "nbformat": 4,
 "nbformat_minor": 5
}
